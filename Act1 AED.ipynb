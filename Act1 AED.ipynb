{
 "cells": [
  {
   "cell_type": "markdown",
   "metadata": {},
   "source": [
    "Exportaciones 2023  USD"
   ]
  },
  {
   "cell_type": "code",
   "execution_count": 1,
   "metadata": {},
   "outputs": [],
   "source": [
    "# Importar las librerías necesarias \n",
    "import pandas as pd\n",
    "import matplotlib.pyplot as plt\n",
    "import seaborn as sns"
   ]
  },
  {
   "cell_type": "code",
   "execution_count": 2,
   "metadata": {},
   "outputs": [],
   "source": [
    "#Ruta del archivo\n",
    "Exportaciones2023= r\"D:\\nhenao\\OneDrive - CAMARA DE COMERCIO DE CALI\\Documentos\\Maestria\\Primer semestre\\AED\\2023.xlsx\""
   ]
  },
  {
   "cell_type": "code",
   "execution_count": 4,
   "metadata": {},
   "outputs": [],
   "source": [
    "# Leer el archivo Excel como un Data Frame\n",
    "df = pd.read_excel(Exportaciones2023, header=8)"
   ]
  },
  {
   "cell_type": "code",
   "execution_count": 5,
   "metadata": {},
   "outputs": [
    {
     "data": {
      "text/html": [
       "<div>\n",
       "<style scoped>\n",
       "    .dataframe tbody tr th:only-of-type {\n",
       "        vertical-align: middle;\n",
       "    }\n",
       "\n",
       "    .dataframe tbody tr th {\n",
       "        vertical-align: top;\n",
       "    }\n",
       "\n",
       "    .dataframe thead th {\n",
       "        text-align: right;\n",
       "    }\n",
       "</style>\n",
       "<table border=\"1\" class=\"dataframe\">\n",
       "  <thead>\n",
       "    <tr style=\"text-align: right;\">\n",
       "      <th></th>\n",
       "      <th>CAPÍTULO</th>\n",
       "      <th>PARTIDA ARANCELARIA</th>\n",
       "      <th>Grupo</th>\n",
       "      <th>4 dígitos</th>\n",
       "      <th>Desc 4</th>\n",
       "      <th>DESCRIPCIÓN PARTIDA ARANCELARIA</th>\n",
       "      <th>NIT</th>\n",
       "      <th>RAZÓN SOCIAL EXPORTADOR</th>\n",
       "      <th>LUGAR DE SALIDA</th>\n",
       "      <th>CÓDIGO PAÍS</th>\n",
       "      <th>...</th>\n",
       "      <th>DEPARTAMENTO ORIGEN</th>\n",
       "      <th>ADUANA EMBARQUE</th>\n",
       "      <th>UNIDAD</th>\n",
       "      <th>CANTIDAD UNIDADES</th>\n",
       "      <th>BRUTOS</th>\n",
       "      <th>NETOS</th>\n",
       "      <th>DÓLAR</th>\n",
       "      <th>PESOS</th>\n",
       "      <th>Clas.</th>\n",
       "      <th>TRANSPORTE</th>\n",
       "    </tr>\n",
       "  </thead>\n",
       "  <tbody>\n",
       "    <tr>\n",
       "      <th>0</th>\n",
       "      <td>56</td>\n",
       "      <td>5607500000</td>\n",
       "      <td>Textiles</td>\n",
       "      <td>5607</td>\n",
       "      <td>Cordeles, cuerdas y cordajes, estén o no trenz...</td>\n",
       "      <td>Cordeles, cuerdas y cordajes de las demás fibr...</td>\n",
       "      <td>800191700.0</td>\n",
       "      <td>CUEROS VELEZ S.A.S</td>\n",
       "      <td>BOG</td>\n",
       "      <td>242</td>\n",
       "      <td>...</td>\n",
       "      <td>ANTIOQUIA.</td>\n",
       "      <td>Medellin</td>\n",
       "      <td>KG</td>\n",
       "      <td>0.01</td>\n",
       "      <td>0.01</td>\n",
       "      <td>0.01</td>\n",
       "      <td>0.01</td>\n",
       "      <td>40.37</td>\n",
       "      <td>Sin minería. petróleo y sus derivados</td>\n",
       "      <td>Aéreo</td>\n",
       "    </tr>\n",
       "    <tr>\n",
       "      <th>1</th>\n",
       "      <td>56</td>\n",
       "      <td>5607500000</td>\n",
       "      <td>Textiles</td>\n",
       "      <td>5607</td>\n",
       "      <td>Cordeles, cuerdas y cordajes, estén o no trenz...</td>\n",
       "      <td>Cordeles, cuerdas y cordajes de las demás fibr...</td>\n",
       "      <td>800191700.0</td>\n",
       "      <td>CUEROS VELEZ S.A.S</td>\n",
       "      <td>BUN</td>\n",
       "      <td>211</td>\n",
       "      <td>...</td>\n",
       "      <td>ANTIOQUIA.</td>\n",
       "      <td>Buenaventura</td>\n",
       "      <td>KG</td>\n",
       "      <td>0.02</td>\n",
       "      <td>0.02</td>\n",
       "      <td>0.02</td>\n",
       "      <td>0.01</td>\n",
       "      <td>42.13</td>\n",
       "      <td>Sin minería. petróleo y sus derivados</td>\n",
       "      <td>Marítimo</td>\n",
       "    </tr>\n",
       "    <tr>\n",
       "      <th>2</th>\n",
       "      <td>56</td>\n",
       "      <td>5607500000</td>\n",
       "      <td>Textiles</td>\n",
       "      <td>5607</td>\n",
       "      <td>Cordeles, cuerdas y cordajes, estén o no trenz...</td>\n",
       "      <td>Cordeles, cuerdas y cordajes de las demás fibr...</td>\n",
       "      <td>800191700.0</td>\n",
       "      <td>CUEROS VELEZ S.A.S</td>\n",
       "      <td>BUN</td>\n",
       "      <td>589</td>\n",
       "      <td>...</td>\n",
       "      <td>ANTIOQUIA.</td>\n",
       "      <td>Buenaventura</td>\n",
       "      <td>KG</td>\n",
       "      <td>0.01</td>\n",
       "      <td>0.01</td>\n",
       "      <td>0.01</td>\n",
       "      <td>0.01</td>\n",
       "      <td>42.38</td>\n",
       "      <td>Sin minería. petróleo y sus derivados</td>\n",
       "      <td>Marítimo</td>\n",
       "    </tr>\n",
       "    <tr>\n",
       "      <th>3</th>\n",
       "      <td>56</td>\n",
       "      <td>5607500000</td>\n",
       "      <td>Textiles</td>\n",
       "      <td>5607</td>\n",
       "      <td>Cordeles, cuerdas y cordajes, estén o no trenz...</td>\n",
       "      <td>Cordeles, cuerdas y cordajes de las demás fibr...</td>\n",
       "      <td>800191700.0</td>\n",
       "      <td>CUEROS VELEZ S.A.S</td>\n",
       "      <td>CTG</td>\n",
       "      <td>317</td>\n",
       "      <td>...</td>\n",
       "      <td>ANTIOQUIA.</td>\n",
       "      <td>Cartagena</td>\n",
       "      <td>KG</td>\n",
       "      <td>20.08</td>\n",
       "      <td>25.10</td>\n",
       "      <td>20.08</td>\n",
       "      <td>0.01</td>\n",
       "      <td>40.37</td>\n",
       "      <td>Sin minería. petróleo y sus derivados</td>\n",
       "      <td>Marítimo</td>\n",
       "    </tr>\n",
       "    <tr>\n",
       "      <th>4</th>\n",
       "      <td>49</td>\n",
       "      <td>4901109000</td>\n",
       "      <td>Papel y sus manufacturas</td>\n",
       "      <td>4901</td>\n",
       "      <td>Libros, folletos e impresos similares, incluso...</td>\n",
       "      <td>Los demás libros, folletos e impresos similare...</td>\n",
       "      <td>805027240.0</td>\n",
       "      <td>NATURAL SYSTEMS INTERNATIONAL S.A.</td>\n",
       "      <td>CLO</td>\n",
       "      <td>493</td>\n",
       "      <td>...</td>\n",
       "      <td>VALLE DEL CAUCA.</td>\n",
       "      <td>Cali</td>\n",
       "      <td>U</td>\n",
       "      <td>1.00</td>\n",
       "      <td>0.01</td>\n",
       "      <td>0.01</td>\n",
       "      <td>0.01</td>\n",
       "      <td>40.63</td>\n",
       "      <td>Sin minería. petróleo y sus derivados</td>\n",
       "      <td>Aéreo</td>\n",
       "    </tr>\n",
       "  </tbody>\n",
       "</table>\n",
       "<p>5 rows × 21 columns</p>\n",
       "</div>"
      ],
      "text/plain": [
       "   CAPÍTULO  PARTIDA ARANCELARIA                     Grupo  4 dígitos  \\\n",
       "0        56           5607500000                  Textiles       5607   \n",
       "1        56           5607500000                  Textiles       5607   \n",
       "2        56           5607500000                  Textiles       5607   \n",
       "3        56           5607500000                  Textiles       5607   \n",
       "4        49           4901109000  Papel y sus manufacturas       4901   \n",
       "\n",
       "                                              Desc 4  \\\n",
       "0  Cordeles, cuerdas y cordajes, estén o no trenz...   \n",
       "1  Cordeles, cuerdas y cordajes, estén o no trenz...   \n",
       "2  Cordeles, cuerdas y cordajes, estén o no trenz...   \n",
       "3  Cordeles, cuerdas y cordajes, estén o no trenz...   \n",
       "4  Libros, folletos e impresos similares, incluso...   \n",
       "\n",
       "                     DESCRIPCIÓN PARTIDA ARANCELARIA          NIT  \\\n",
       "0  Cordeles, cuerdas y cordajes de las demás fibr...  800191700.0   \n",
       "1  Cordeles, cuerdas y cordajes de las demás fibr...  800191700.0   \n",
       "2  Cordeles, cuerdas y cordajes de las demás fibr...  800191700.0   \n",
       "3  Cordeles, cuerdas y cordajes de las demás fibr...  800191700.0   \n",
       "4  Los demás libros, folletos e impresos similare...  805027240.0   \n",
       "\n",
       "              RAZÓN SOCIAL EXPORTADOR LUGAR DE SALIDA CÓDIGO PAÍS  ...  \\\n",
       "0                  CUEROS VELEZ S.A.S             BOG         242  ...   \n",
       "1                  CUEROS VELEZ S.A.S             BUN         211  ...   \n",
       "2                  CUEROS VELEZ S.A.S             BUN         589  ...   \n",
       "3                  CUEROS VELEZ S.A.S             CTG         317  ...   \n",
       "4  NATURAL SYSTEMS INTERNATIONAL S.A.             CLO         493  ...   \n",
       "\n",
       "  DEPARTAMENTO ORIGEN ADUANA EMBARQUE UNIDAD CANTIDAD UNIDADES  BRUTOS  NETOS  \\\n",
       "0          ANTIOQUIA.        Medellin     KG              0.01    0.01   0.01   \n",
       "1          ANTIOQUIA.    Buenaventura     KG              0.02    0.02   0.02   \n",
       "2          ANTIOQUIA.    Buenaventura     KG              0.01    0.01   0.01   \n",
       "3          ANTIOQUIA.       Cartagena     KG             20.08   25.10  20.08   \n",
       "4    VALLE DEL CAUCA.            Cali      U              1.00    0.01   0.01   \n",
       "\n",
       "   DÓLAR  PESOS                                  Clas. TRANSPORTE  \n",
       "0   0.01  40.37  Sin minería. petróleo y sus derivados      Aéreo  \n",
       "1   0.01  42.13  Sin minería. petróleo y sus derivados   Marítimo  \n",
       "2   0.01  42.38  Sin minería. petróleo y sus derivados   Marítimo  \n",
       "3   0.01  40.37  Sin minería. petróleo y sus derivados   Marítimo  \n",
       "4   0.01  40.63  Sin minería. petróleo y sus derivados      Aéreo  \n",
       "\n",
       "[5 rows x 21 columns]"
      ]
     },
     "execution_count": 5,
     "metadata": {},
     "output_type": "execute_result"
    }
   ],
   "source": [
    "df.head(5)"
   ]
  },
  {
   "cell_type": "code",
   "execution_count": 6,
   "metadata": {},
   "outputs": [
    {
     "name": "stdout",
     "output_type": "stream",
     "text": [
      "<class 'pandas.core.frame.DataFrame'>\n",
      "RangeIndex: 147525 entries, 0 to 147524\n",
      "Data columns (total 21 columns):\n",
      " #   Column                           Non-Null Count   Dtype  \n",
      "---  ------                           --------------   -----  \n",
      " 0   CAPÍTULO                         147525 non-null  int64  \n",
      " 1   PARTIDA ARANCELARIA              147525 non-null  int64  \n",
      " 2   Grupo                            147525 non-null  object \n",
      " 3   4 dígitos                        147525 non-null  int64  \n",
      " 4   Desc 4                           147353 non-null  object \n",
      " 5   DESCRIPCIÓN PARTIDA ARANCELARIA  147509 non-null  object \n",
      " 6   NIT                              145264 non-null  float64\n",
      " 7   RAZÓN SOCIAL EXPORTADOR          147525 non-null  object \n",
      " 8   LUGAR DE SALIDA                  147525 non-null  object \n",
      " 9   CÓDIGO PAÍS                      147525 non-null  object \n",
      " 10  PAÍS DESTINO                     147524 non-null  object \n",
      " 11  DEPARTAMENTO ORIGEN              147525 non-null  object \n",
      " 12  ADUANA EMBARQUE                  147525 non-null  object \n",
      " 13  UNIDAD                           147525 non-null  object \n",
      " 14  CANTIDAD UNIDADES                147525 non-null  float64\n",
      " 15  BRUTOS                           147525 non-null  float64\n",
      " 16  NETOS                            147525 non-null  float64\n",
      " 17  DÓLAR                            147525 non-null  float64\n",
      " 18  PESOS                            147525 non-null  float64\n",
      " 19  Clas.                            147525 non-null  object \n",
      " 20  TRANSPORTE                       147525 non-null  object \n",
      "dtypes: float64(6), int64(3), object(12)\n",
      "memory usage: 23.6+ MB\n"
     ]
    }
   ],
   "source": [
    "# Comprobar el tipo de datos del data frame \"df\" por medio de .dtypes\n",
    "df.info()"
   ]
  },
  {
   "cell_type": "code",
   "execution_count": 71,
   "metadata": {},
   "outputs": [
    {
     "data": {
      "text/html": [
       "<div>\n",
       "<style scoped>\n",
       "    .dataframe tbody tr th:only-of-type {\n",
       "        vertical-align: middle;\n",
       "    }\n",
       "\n",
       "    .dataframe tbody tr th {\n",
       "        vertical-align: top;\n",
       "    }\n",
       "\n",
       "    .dataframe thead th {\n",
       "        text-align: right;\n",
       "    }\n",
       "</style>\n",
       "<table border=\"1\" class=\"dataframe\">\n",
       "  <thead>\n",
       "    <tr style=\"text-align: right;\">\n",
       "      <th></th>\n",
       "      <th>CAPÍTULO</th>\n",
       "      <th>PARTIDA ARANCELARIA</th>\n",
       "      <th>Grupo</th>\n",
       "      <th>4 dígitos</th>\n",
       "      <th>Desc 4</th>\n",
       "      <th>DESCRIPCIÓN PARTIDA ARANCELARIA</th>\n",
       "      <th>NIT</th>\n",
       "      <th>RAZÓN SOCIAL EXPORTADOR</th>\n",
       "      <th>LUGAR DE SALIDA</th>\n",
       "      <th>CÓDIGO PAÍS</th>\n",
       "      <th>...</th>\n",
       "      <th>ADUANA EMBARQUE</th>\n",
       "      <th>UNIDAD</th>\n",
       "      <th>CANTIDAD UNIDADES</th>\n",
       "      <th>BRUTOS</th>\n",
       "      <th>NETOS</th>\n",
       "      <th>DÓLAR</th>\n",
       "      <th>PESOS</th>\n",
       "      <th>Clas.</th>\n",
       "      <th>TRANSPORTE</th>\n",
       "      <th>DÓLARMIL</th>\n",
       "    </tr>\n",
       "  </thead>\n",
       "  <tbody>\n",
       "    <tr>\n",
       "      <th>0</th>\n",
       "      <td>56</td>\n",
       "      <td>5607500000</td>\n",
       "      <td>Textiles</td>\n",
       "      <td>5607</td>\n",
       "      <td>Cordeles, cuerdas y cordajes, estén o no trenz...</td>\n",
       "      <td>Cordeles, cuerdas y cordajes de las demás fibr...</td>\n",
       "      <td>800191700.0</td>\n",
       "      <td>CUEROS VELEZ S.A.S</td>\n",
       "      <td>BOG</td>\n",
       "      <td>242</td>\n",
       "      <td>...</td>\n",
       "      <td>Medellin</td>\n",
       "      <td>KG</td>\n",
       "      <td>0.01</td>\n",
       "      <td>0.01</td>\n",
       "      <td>0.01</td>\n",
       "      <td>0.01</td>\n",
       "      <td>40.37</td>\n",
       "      <td>Sin minería. petróleo y sus derivados</td>\n",
       "      <td>Aéreo</td>\n",
       "      <td>0.00001</td>\n",
       "    </tr>\n",
       "    <tr>\n",
       "      <th>1</th>\n",
       "      <td>56</td>\n",
       "      <td>5607500000</td>\n",
       "      <td>Textiles</td>\n",
       "      <td>5607</td>\n",
       "      <td>Cordeles, cuerdas y cordajes, estén o no trenz...</td>\n",
       "      <td>Cordeles, cuerdas y cordajes de las demás fibr...</td>\n",
       "      <td>800191700.0</td>\n",
       "      <td>CUEROS VELEZ S.A.S</td>\n",
       "      <td>BUN</td>\n",
       "      <td>211</td>\n",
       "      <td>...</td>\n",
       "      <td>Buenaventura</td>\n",
       "      <td>KG</td>\n",
       "      <td>0.02</td>\n",
       "      <td>0.02</td>\n",
       "      <td>0.02</td>\n",
       "      <td>0.01</td>\n",
       "      <td>42.13</td>\n",
       "      <td>Sin minería. petróleo y sus derivados</td>\n",
       "      <td>Marítimo</td>\n",
       "      <td>0.00001</td>\n",
       "    </tr>\n",
       "    <tr>\n",
       "      <th>2</th>\n",
       "      <td>56</td>\n",
       "      <td>5607500000</td>\n",
       "      <td>Textiles</td>\n",
       "      <td>5607</td>\n",
       "      <td>Cordeles, cuerdas y cordajes, estén o no trenz...</td>\n",
       "      <td>Cordeles, cuerdas y cordajes de las demás fibr...</td>\n",
       "      <td>800191700.0</td>\n",
       "      <td>CUEROS VELEZ S.A.S</td>\n",
       "      <td>BUN</td>\n",
       "      <td>589</td>\n",
       "      <td>...</td>\n",
       "      <td>Buenaventura</td>\n",
       "      <td>KG</td>\n",
       "      <td>0.01</td>\n",
       "      <td>0.01</td>\n",
       "      <td>0.01</td>\n",
       "      <td>0.01</td>\n",
       "      <td>42.38</td>\n",
       "      <td>Sin minería. petróleo y sus derivados</td>\n",
       "      <td>Marítimo</td>\n",
       "      <td>0.00001</td>\n",
       "    </tr>\n",
       "    <tr>\n",
       "      <th>3</th>\n",
       "      <td>56</td>\n",
       "      <td>5607500000</td>\n",
       "      <td>Textiles</td>\n",
       "      <td>5607</td>\n",
       "      <td>Cordeles, cuerdas y cordajes, estén o no trenz...</td>\n",
       "      <td>Cordeles, cuerdas y cordajes de las demás fibr...</td>\n",
       "      <td>800191700.0</td>\n",
       "      <td>CUEROS VELEZ S.A.S</td>\n",
       "      <td>CTG</td>\n",
       "      <td>317</td>\n",
       "      <td>...</td>\n",
       "      <td>Cartagena</td>\n",
       "      <td>KG</td>\n",
       "      <td>20.08</td>\n",
       "      <td>25.10</td>\n",
       "      <td>20.08</td>\n",
       "      <td>0.01</td>\n",
       "      <td>40.37</td>\n",
       "      <td>Sin minería. petróleo y sus derivados</td>\n",
       "      <td>Marítimo</td>\n",
       "      <td>0.00001</td>\n",
       "    </tr>\n",
       "    <tr>\n",
       "      <th>4</th>\n",
       "      <td>49</td>\n",
       "      <td>4901109000</td>\n",
       "      <td>Papel y sus manufacturas</td>\n",
       "      <td>4901</td>\n",
       "      <td>Libros, folletos e impresos similares, incluso...</td>\n",
       "      <td>Los demás libros, folletos e impresos similare...</td>\n",
       "      <td>805027240.0</td>\n",
       "      <td>NATURAL SYSTEMS INTERNATIONAL S.A.</td>\n",
       "      <td>CLO</td>\n",
       "      <td>493</td>\n",
       "      <td>...</td>\n",
       "      <td>Cali</td>\n",
       "      <td>U</td>\n",
       "      <td>1.00</td>\n",
       "      <td>0.01</td>\n",
       "      <td>0.01</td>\n",
       "      <td>0.01</td>\n",
       "      <td>40.63</td>\n",
       "      <td>Sin minería. petróleo y sus derivados</td>\n",
       "      <td>Aéreo</td>\n",
       "      <td>0.00001</td>\n",
       "    </tr>\n",
       "  </tbody>\n",
       "</table>\n",
       "<p>5 rows × 22 columns</p>\n",
       "</div>"
      ],
      "text/plain": [
       "   CAPÍTULO  PARTIDA ARANCELARIA                     Grupo  4 dígitos  \\\n",
       "0        56           5607500000                  Textiles       5607   \n",
       "1        56           5607500000                  Textiles       5607   \n",
       "2        56           5607500000                  Textiles       5607   \n",
       "3        56           5607500000                  Textiles       5607   \n",
       "4        49           4901109000  Papel y sus manufacturas       4901   \n",
       "\n",
       "                                              Desc 4  \\\n",
       "0  Cordeles, cuerdas y cordajes, estén o no trenz...   \n",
       "1  Cordeles, cuerdas y cordajes, estén o no trenz...   \n",
       "2  Cordeles, cuerdas y cordajes, estén o no trenz...   \n",
       "3  Cordeles, cuerdas y cordajes, estén o no trenz...   \n",
       "4  Libros, folletos e impresos similares, incluso...   \n",
       "\n",
       "                     DESCRIPCIÓN PARTIDA ARANCELARIA          NIT  \\\n",
       "0  Cordeles, cuerdas y cordajes de las demás fibr...  800191700.0   \n",
       "1  Cordeles, cuerdas y cordajes de las demás fibr...  800191700.0   \n",
       "2  Cordeles, cuerdas y cordajes de las demás fibr...  800191700.0   \n",
       "3  Cordeles, cuerdas y cordajes de las demás fibr...  800191700.0   \n",
       "4  Los demás libros, folletos e impresos similare...  805027240.0   \n",
       "\n",
       "              RAZÓN SOCIAL EXPORTADOR LUGAR DE SALIDA CÓDIGO PAÍS  ...  \\\n",
       "0                  CUEROS VELEZ S.A.S             BOG         242  ...   \n",
       "1                  CUEROS VELEZ S.A.S             BUN         211  ...   \n",
       "2                  CUEROS VELEZ S.A.S             BUN         589  ...   \n",
       "3                  CUEROS VELEZ S.A.S             CTG         317  ...   \n",
       "4  NATURAL SYSTEMS INTERNATIONAL S.A.             CLO         493  ...   \n",
       "\n",
       "  ADUANA EMBARQUE UNIDAD CANTIDAD UNIDADES BRUTOS  NETOS  DÓLAR  PESOS  \\\n",
       "0        Medellin     KG              0.01   0.01   0.01   0.01  40.37   \n",
       "1    Buenaventura     KG              0.02   0.02   0.02   0.01  42.13   \n",
       "2    Buenaventura     KG              0.01   0.01   0.01   0.01  42.38   \n",
       "3       Cartagena     KG             20.08  25.10  20.08   0.01  40.37   \n",
       "4            Cali      U              1.00   0.01   0.01   0.01  40.63   \n",
       "\n",
       "                                   Clas.  TRANSPORTE DÓLARMIL  \n",
       "0  Sin minería. petróleo y sus derivados       Aéreo  0.00001  \n",
       "1  Sin minería. petróleo y sus derivados    Marítimo  0.00001  \n",
       "2  Sin minería. petróleo y sus derivados    Marítimo  0.00001  \n",
       "3  Sin minería. petróleo y sus derivados    Marítimo  0.00001  \n",
       "4  Sin minería. petróleo y sus derivados       Aéreo  0.00001  \n",
       "\n",
       "[5 rows x 22 columns]"
      ]
     },
     "execution_count": 71,
     "metadata": {},
     "output_type": "execute_result"
    }
   ],
   "source": [
    "# Dividir la columna 'DÓLAR' por 1000 y crear una nueva columna llamada 'DÓLAR/1000'\n",
    "df['DÓLARMIL'] = df['DÓLAR'] / 1000\n",
    "\n",
    "# Mostrar las primeras filas del DataFrame para verificar\n",
    "df.head()"
   ]
  },
  {
   "cell_type": "code",
   "execution_count": 72,
   "metadata": {},
   "outputs": [
    {
     "name": "stderr",
     "output_type": "stream",
     "text": [
      "C:\\Users\\nhenao\\AppData\\Local\\Temp\\ipykernel_21148\\1874348242.py:2: SettingWithCopyWarning: \n",
      "A value is trying to be set on a copy of a slice from a DataFrame.\n",
      "Try using .loc[row_indexer,col_indexer] = value instead\n",
      "\n",
      "See the caveats in the documentation: https://pandas.pydata.org/pandas-docs/stable/user_guide/indexing.html#returning-a-view-versus-a-copy\n",
      "  df_valle['DÓLARMIL'] = pd.to_numeric(df_valle['DÓLARMIL'], errors='coerce').fillna(0).astype(int)\n"
     ]
    }
   ],
   "source": [
    "df_valle = df[df['DEPARTAMENTO ORIGEN'] == 'VALLE DEL CAUCA.']\n",
    "df_valle['DÓLARMIL'] = pd.to_numeric(df_valle['DÓLARMIL'], errors='coerce').fillna(0).astype(int)\n",
    "# USD = df_valle['DÓLAR']\n",
    "# # USD.info()\n"
   ]
  },
  {
   "cell_type": "code",
   "execution_count": 49,
   "metadata": {},
   "outputs": [
    {
     "data": {
      "text/plain": [
       "Index(['CAPÍTULO', 'PARTIDA ARANCELARIA', 'Grupo', '4 dígitos', 'Desc 4',\n",
       "       'DESCRIPCIÓN PARTIDA ARANCELARIA', 'NIT', 'RAZÓN SOCIAL EXPORTADOR',\n",
       "       'LUGAR DE SALIDA', 'CÓDIGO PAÍS', 'PAÍS DESTINO', 'DEPARTAMENTO ORIGEN',\n",
       "       'ADUANA EMBARQUE', 'UNIDAD', 'CANTIDAD UNIDADES', 'BRUTOS', 'NETOS',\n",
       "       'DÓLAR', 'PESOS', 'Clas.', 'TRANSPORTE'],\n",
       "      dtype='object')"
      ]
     },
     "execution_count": 49,
     "metadata": {},
     "output_type": "execute_result"
    }
   ],
   "source": [
    "df_valle.columns"
   ]
  },
  {
   "cell_type": "markdown",
   "metadata": {},
   "source": [
    "### Base agrupada por Razón Social\n",
    "<p><b>Nota:</b> Esta base está agrupada por razón social y los números son la suma de cada una de las observaciones de las empresas</p>"
   ]
  },
  {
   "cell_type": "code",
   "execution_count": 73,
   "metadata": {},
   "outputs": [
    {
     "name": "stdout",
     "output_type": "stream",
     "text": [
      "<class 'pandas.core.frame.DataFrame'>\n",
      "RangeIndex: 1254 entries, 0 to 1253\n",
      "Data columns (total 2 columns):\n",
      " #   Column                   Non-Null Count  Dtype \n",
      "---  ------                   --------------  ----- \n",
      " 0   RAZÓN SOCIAL EXPORTADOR  1254 non-null   object\n",
      " 1   DÓLARMIL                 1254 non-null   int32 \n",
      "dtypes: int32(1), object(1)\n",
      "memory usage: 14.8+ KB\n"
     ]
    }
   ],
   "source": [
    "dolar_agrupado = df_valle.groupby(['RAZÓN SOCIAL EXPORTADOR'])['DÓLARMIL'].sum().sort_values(ascending=False)\n",
    "dolar_agrupado = dolar_agrupado.reset_index()\n",
    "dolar_agrupado.info()"
   ]
  },
  {
   "cell_type": "code",
   "execution_count": null,
   "metadata": {},
   "outputs": [],
   "source": [
    "#######"
   ]
  },
  {
   "cell_type": "code",
   "execution_count": 77,
   "metadata": {},
   "outputs": [
    {
     "data": {
      "image/png": "[encoded data removed]",
      "text/plain": [
       "<Figure size 800x600 with 1 Axes>"
      ]
     },
     "metadata": {},
     "output_type": "display_data"
    }
   ],
   "source": [
    "plt.figure(figsize=(8, 6))\n",
    "plt.boxplot(dolar_agrupado[\"DÓLARMIL\"])\n",
    "plt.ylim(0, 1000)  # Ajuste basado en la descripción estadística\n",
    "\n",
    "# Configurar el título y etiquetas\n",
    "plt.title(\"Diagrama de Caja para 'DÓLAR' (Rango ajustado)\")\n",
    "plt.ylabel(\"Valor en Dólares\")\n",
    "\n",
    "# Mostrar el gráfico\n",
    "plt.show()"
   ]
  },
  {
   "cell_type": "code",
   "execution_count": 78,
   "metadata": {},
   "outputs": [
    {
     "data": {
      "text/html": [
       "<div>\n",
       "<style scoped>\n",
       "    .dataframe tbody tr th:only-of-type {\n",
       "        vertical-align: middle;\n",
       "    }\n",
       "\n",
       "    .dataframe tbody tr th {\n",
       "        vertical-align: top;\n",
       "    }\n",
       "\n",
       "    .dataframe thead th {\n",
       "        text-align: right;\n",
       "    }\n",
       "</style>\n",
       "<table border=\"1\" class=\"dataframe\">\n",
       "  <thead>\n",
       "    <tr style=\"text-align: right;\">\n",
       "      <th></th>\n",
       "      <th>DÓLARMIL</th>\n",
       "    </tr>\n",
       "  </thead>\n",
       "  <tbody>\n",
       "    <tr>\n",
       "      <th>count</th>\n",
       "      <td>1254.00</td>\n",
       "    </tr>\n",
       "    <tr>\n",
       "      <th>mean</th>\n",
       "      <td>1925.92</td>\n",
       "    </tr>\n",
       "    <tr>\n",
       "      <th>std</th>\n",
       "      <td>9041.43</td>\n",
       "    </tr>\n",
       "    <tr>\n",
       "      <th>min</th>\n",
       "      <td>0.00</td>\n",
       "    </tr>\n",
       "    <tr>\n",
       "      <th>25%</th>\n",
       "      <td>15.00</td>\n",
       "    </tr>\n",
       "    <tr>\n",
       "      <th>50%</th>\n",
       "      <td>61.00</td>\n",
       "    </tr>\n",
       "    <tr>\n",
       "      <th>75%</th>\n",
       "      <td>369.75</td>\n",
       "    </tr>\n",
       "    <tr>\n",
       "      <th>max</th>\n",
       "      <td>148861.00</td>\n",
       "    </tr>\n",
       "  </tbody>\n",
       "</table>\n",
       "</div>"
      ],
      "text/plain": [
       "        DÓLARMIL\n",
       "count    1254.00\n",
       "mean     1925.92\n",
       "std      9041.43\n",
       "min         0.00\n",
       "25%        15.00\n",
       "50%        61.00\n",
       "75%       369.75\n",
       "max    148861.00"
      ]
     },
     "execution_count": 78,
     "metadata": {},
     "output_type": "execute_result"
    }
   ],
   "source": [
    "dolar_agrupado.describe().round(2)"
   ]
  },
  {
   "cell_type": "code",
   "execution_count": 83,
   "metadata": {},
   "outputs": [
    {
     "name": "stdout",
     "output_type": "stream",
     "text": [
      "La varianza de 'DÓLAR' es: 170312289.61154565\n",
      "La desviación estándar de 'DÓLAR' es: 13050.37507551203\n"
     ]
    }
   ],
   "source": [
    "# Calcular la varianza\n",
    "varianza_dolar = df['DÓLARMIL'].var()\n",
    "\n",
    "# Calcular la desviación estándar\n",
    "desviacion_dolar = df['DÓLARMIL'].std()\n",
    "\n",
    "# Mostrar los resultados\n",
    "print(f\"La varianza de 'DÓLAR' es: {varianza_dolar}\")\n",
    "print(f\"La desviación estándar de 'DÓLAR' es: {desviacion_dolar}\")"
   ]
  },
  {
   "cell_type": "code",
   "execution_count": 79,
   "metadata": {},
   "outputs": [
    {
     "name": "stdout",
     "output_type": "stream",
     "text": [
      "                       Frecuencia Absoluta  Frecuencia Relativa (%)\n",
      "Marítimo                              7825                54.954702\n",
      "Aéreo                                 4517                31.722733\n",
      "Terrestre (carretero)                 1897                13.322565\n"
     ]
    }
   ],
   "source": [
    "frecuencias_absolutas = df_valle['TRANSPORTE'].value_counts()\n",
    "# Tabla de frecuencias relativas\n",
    "frecuencias_relativas = df_valle['TRANSPORTE'].value_counts(normalize=True) * 100\n",
    "# Mostrar las tablas\n",
    "tabla_frecuencias = pd.DataFrame({'Frecuencia Absoluta': frecuencias_absolutas, 'Frecuencia Relativa (%)': frecuencias_relativas})\n",
    "print(tabla_frecuencias)"
   ]
  },
  {
   "cell_type": "code",
   "execution_count": 80,
   "metadata": {},
   "outputs": [
    {
     "data": {
      "image/png": "[encoded data removed]",
      "text/plain": [
       "<Figure size 800x600 with 1 Axes>"
      ]
     },
     "metadata": {},
     "output_type": "display_data"
    }
   ],
   "source": [
    "# Gráfico de sectores (pastel)\n",
    "plt.figure(figsize=(8, 6))\n",
    "frecuencias_relativas.plot(kind='pie', autopct='%1.1f%%', startangle=90, colors=['skyblue', 'orange', 'lightgreen'])\n",
    "plt.title('Gráfico de Pastel - Frecuencia Relativa (%)')\n",
    "plt.ylabel('')  # Ocultar la etiqueta del eje y\n",
    "plt.show()"
   ]
  },
  {
   "cell_type": "code",
   "execution_count": 81,
   "metadata": {},
   "outputs": [
    {
     "name": "stdout",
     "output_type": "stream",
     "text": [
      "La moda es: Marítimo\n"
     ]
    }
   ],
   "source": [
    "# Calcular la moda\n",
    "moda = df_valle['TRANSPORTE'].mode()[0]\n",
    "print(f\"La moda es: {moda}\")"
   ]
  }
 ],
 "metadata": {
  "kernelspec": {
   "display_name": "base",
   "language": "python",
   "name": "python3"
  },
  "language_info": {
   "codemirror_mode": {
    "name": "ipython",
    "version": 3
   },
   "file_extension": ".py",
   "mimetype": "text/x-python",
   "name": "python",
   "nbconvert_exporter": "python",
   "pygments_lexer": "ipython3",
   "version": "3.9.13"
  }
 },
 "nbformat": 4,
 "nbformat_minor": 2
}
